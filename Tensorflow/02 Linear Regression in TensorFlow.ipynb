{
 "cells": [
  {
   "cell_type": "markdown",
   "metadata": {},
   "source": [
    "# Full-connected layer"
   ]
  },
  {
   "cell_type": "code",
   "execution_count": 1,
   "metadata": {},
   "outputs": [
    {
     "name": "stdout",
     "output_type": "stream",
     "text": [
      "[<tf.Variable 'linear/dense/kernel:0' shape=(3, 1) dtype=float32, numpy=\n",
      "array([[0.40784496],\n",
      "       [1.191065  ],\n",
      "       [1.9742855 ]], dtype=float32)>, <tf.Variable 'linear/dense/bias:0' shape=(1,) dtype=float32, numpy=array([0.78322077], dtype=float32)>]\n"
     ]
    }
   ],
   "source": [
    "import tensorflow as tf\n",
    "                                                           # (0) input\n",
    "X = tf.constant([[1.0, 2.0, 3.0], [4.0, 5.0, 6.0]])        #     X = [[x1, x2, x3 for sample1], [x1, x2, x3 for sample2]]\n",
    "y = tf.constant([[10.0], [20.0]])                          #     Y = [[y for sample1], [y for sample2]]\n",
    "\n",
    "\n",
    "class Linear(tf.keras.Model):                              # (1) define a linear model: y = w1*x1 + w2*x2 + w3*x3 + b\n",
    "    def __init__(self):\n",
    "        super().__init__()\n",
    "        \n",
    "        # initailize a Fully-connected Layer named self.dense using tf.keras.layers.Dense\n",
    "        self.dense = tf.keras.layers.Dense(units = 1,                                   # number of layers\n",
    "                                           activation = None,                           # activation function\n",
    "                                           kernel_initializer = tf.zeros_initializer(), # initialize vector w = [w1, w2, w3]\n",
    "                                           bias_initializer = tf.zeros_initializer())   # initialize bias b\n",
    "\n",
    "    def call(self, input): # input: number of samples, or batch. In this example, there are two samples in X. \n",
    "        # call model (deal with input and output)\n",
    "        output = self.dense(input)\n",
    "        return output\n",
    "\n",
    "\n",
    "model = Linear()                                            # (2) define an object of Linear()\n",
    "optimizer = tf.keras.optimizers.SGD(learning_rate = 0.01)   # (3) define an optimizer: SGD\n",
    "for i in range(100):                                        # (4) training for 100 epoches\n",
    "    with tf.GradientTape() as tape:                         # (5) record y_pred and loss in tape\n",
    "        y_pred = model(X)                                   #     call function y_pred = model(X) to compute y_predict\n",
    "        loss = tf.reduce_mean(tf.square(y_pred - y))        #     compute loss function: Mean Square Error (MSE)\n",
    "        \n",
    "    grads = tape.gradient(loss, model.variables)            # (6) compute grads with loss and parameters [w1, w2, w3, b]\n",
    "    \n",
    "    optimizer.apply_gradients(grads_and_vars = \n",
    "                              zip(grads, model.variables))  # (7) optimize paramters [w1, w2, w3, b]\n",
    "    \n",
    "print(model.variables)                                      # (8) output [w1, w2, w3, b]"
   ]
  },
  {
   "cell_type": "code",
   "execution_count": 2,
   "metadata": {},
   "outputs": [
    {
     "data": {
      "text/plain": [
       "[[0.40784496], [1.191065], [1.9742855]]"
      ]
     },
     "execution_count": 2,
     "metadata": {},
     "output_type": "execute_result"
    }
   ],
   "source": [
    "W = [[0.40784496],\n",
    "     [1.19106500],\n",
    "     [1.97428550]]\n",
    "W"
   ]
  },
  {
   "cell_type": "code",
   "execution_count": 3,
   "metadata": {},
   "outputs": [
    {
     "data": {
      "text/plain": [
       "[0.78322077]"
      ]
     },
     "execution_count": 3,
     "metadata": {},
     "output_type": "execute_result"
    }
   ],
   "source": [
    "b = [0.78322077]\n",
    "b"
   ]
  },
  {
   "cell_type": "markdown",
   "metadata": {},
   "source": [
    "**Result:**\n",
    "\n",
    "$$y = W*X + b = 0.40784496*x1 + 1.19106500*x2 + 1.97428550*x3 + 0.78322077$$"
   ]
  },
  {
   "cell_type": "markdown",
   "metadata": {},
   "source": [
    "Reference: https://tf.wiki/en/basic/models.html#a-basic-example-multilayer-perceptron-mlp"
   ]
  },
  {
   "cell_type": "code",
   "execution_count": null,
   "metadata": {},
   "outputs": [],
   "source": []
  }
 ],
 "metadata": {
  "kernelspec": {
   "display_name": "Python 3",
   "language": "python",
   "name": "python3"
  },
  "language_info": {
   "codemirror_mode": {
    "name": "ipython",
    "version": 3
   },
   "file_extension": ".py",
   "mimetype": "text/x-python",
   "name": "python",
   "nbconvert_exporter": "python",
   "pygments_lexer": "ipython3",
   "version": "3.7.4"
  },
  "toc": {
   "base_numbering": 1,
   "nav_menu": {},
   "number_sections": true,
   "sideBar": true,
   "skip_h1_title": false,
   "title_cell": "Table of Contents",
   "title_sidebar": "Contents",
   "toc_cell": false,
   "toc_position": {},
   "toc_section_display": true,
   "toc_window_display": false
  }
 },
 "nbformat": 4,
 "nbformat_minor": 2
}
