{
 "cells": [
  {
   "cell_type": "markdown",
   "metadata": {},
   "source": [
    "# Core components of neural networks\n",
    "- `Layers` include **input layer, hide layer and output layer** which are combined into a network.\n",
    "- `Input data` and `corresponding targets`.\n",
    "- `Loss function`, which defines the feedback signal which is used for learning.\n",
    "- `Optimizer`, which determines how the learning proceeds."
   ]
  },
  {
   "cell_type": "markdown",
   "metadata": {},
   "source": [
    "<img src = './pic/3_relationship.png' width = 400>"
   ]
  },
  {
   "cell_type": "markdown",
   "metadata": {},
   "source": [
    "# Steps for Achieving Neural Network\n",
    "1. Prepare dataset, abstract features, and feed them to neural network.\n",
    "2. Forward Propagation (FP): build neural network to achieve output from input\n",
    "3. Backward Propagation (BP): optimize parameters iteratively to minimize the loss function\n",
    "4. Use trained model to do prediction or classification"
   ]
  },
  {
   "cell_type": "markdown",
   "metadata": {},
   "source": [
    "## Prepare dataset"
   ]
  },
  {
   "cell_type": "markdown",
   "metadata": {},
   "source": [
    "## Forward Propagation(FP)"
   ]
  },
  {
   "cell_type": "markdown",
   "metadata": {},
   "source": [
    "There is a bunch of machine components with Volume($x_1$) and Weight($x_2$). We can use Volume and Weight as input data to compute a result."
   ]
  },
  {
   "cell_type": "markdown",
   "metadata": {},
   "source": [
    "<img src = './pic/3.2_FP.png' width = 600>"
   ]
  },
  {
   "cell_type": "markdown",
   "metadata": {},
   "source": [
    "<img src = './pic/3.3_FP.png' width = 600>"
   ]
  },
  {
   "cell_type": "markdown",
   "metadata": {},
   "source": [
    "## Backward Prppagation (BP)"
   ]
  },
  {
   "cell_type": "markdown",
   "metadata": {},
   "source": [
    "- Loss function: predict value (y_pred) - true value (y)\n",
    "- Mean Square Error (MSE) is used to compute loss function\n",
    "- Cross Entropy is used to compute loss function\n",
    "- Backward Propagation to minimize the loss function"
   ]
  },
  {
   "cell_type": "markdown",
   "metadata": {},
   "source": [
    "<img src = './pic/3_4.png' width = 400>"
   ]
  },
  {
   "cell_type": "markdown",
   "metadata": {},
   "source": [
    "# Complexity of neural network\n",
    "- It usually can be represented with layers (except input layer) and parameters.\n",
    "- Complexity = total w + total b"
   ]
  },
  {
   "cell_type": "markdown",
   "metadata": {},
   "source": [
    "<img src = './pic/3_6.png' width = 300>"
   ]
  },
  {
   "cell_type": "markdown",
   "metadata": {},
   "source": [
    "# Activation Function\n",
    "We introduce activation function to make model have a better expression and avoid purely linear combination.\n",
    "\n",
    "- relu:\n",
    "- sigmoid:\n",
    "- tanh:"
   ]
  },
  {
   "cell_type": "markdown",
   "metadata": {},
   "source": [
    "<img src = './pic/3_5_activation.png' width = 400>"
   ]
  },
  {
   "cell_type": "markdown",
   "metadata": {},
   "source": [
    "# Optimization of Neural Network"
   ]
  },
  {
   "cell_type": "markdown",
   "metadata": {},
   "source": [
    "## Loss function\n",
    "loss function = predict value (y_pred) - true value (y)\n",
    "- Mean Square Error (MSE) is used to compute loss function\n",
    "- Cross Entropy is used to compute loss function"
   ]
  },
  {
   "cell_type": "markdown",
   "metadata": {},
   "source": [
    "<img src = './pic/3_7.png' width = 650>"
   ]
  },
  {
   "cell_type": "markdown",
   "metadata": {},
   "source": [
    "For example, we get y_pred = (0.6, 0.4) and (0.8, 0.2), the real value of y is (1, 0).\n",
    "\n",
    "Which one of these two predictions is better?\n",
    "\n",
    "\n",
    "**Answer: (0.8, 0.2) is better because it has the lower distance with the true answer.**"
   ]
  },
  {
   "cell_type": "markdown",
   "metadata": {},
   "source": [
    "<img src = './pic/3_8_copy.png' width = 450>"
   ]
  },
  {
   "cell_type": "markdown",
   "metadata": {},
   "source": [
    "## Moving Average"
   ]
  },
  {
   "cell_type": "markdown",
   "metadata": {},
   "source": [
    "<img src = './pic/3_9.png' width = 450>"
   ]
  },
  {
   "cell_type": "markdown",
   "metadata": {},
   "source": [
    "## Learning Rate"
   ]
  },
  {
   "cell_type": "markdown",
   "metadata": {},
   "source": [
    "<img src = './pic/3_10.png' width = 300>"
   ]
  },
  {
   "cell_type": "code",
   "execution_count": null,
   "metadata": {},
   "outputs": [],
   "source": []
  }
 ],
 "metadata": {
  "kernelspec": {
   "display_name": "Python 3",
   "language": "python",
   "name": "python3"
  },
  "language_info": {
   "codemirror_mode": {
    "name": "ipython",
    "version": 3
   },
   "file_extension": ".py",
   "mimetype": "text/x-python",
   "name": "python",
   "nbconvert_exporter": "python",
   "pygments_lexer": "ipython3",
   "version": "3.7.4"
  },
  "toc": {
   "base_numbering": 1,
   "nav_menu": {},
   "number_sections": true,
   "sideBar": true,
   "skip_h1_title": false,
   "title_cell": "Table of Contents",
   "title_sidebar": "Contents",
   "toc_cell": false,
   "toc_position": {},
   "toc_section_display": true,
   "toc_window_display": false
  }
 },
 "nbformat": 4,
 "nbformat_minor": 2
}
